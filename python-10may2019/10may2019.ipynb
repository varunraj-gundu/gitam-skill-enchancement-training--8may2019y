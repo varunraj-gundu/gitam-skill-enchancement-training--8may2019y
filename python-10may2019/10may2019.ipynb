{
 "cells": [
  {
   "cell_type": "markdown",
   "metadata": {},
   "source": [
    "### Problem Solving and Programming\n",
    "### Day No - 12\n",
    "### Date - 8th may 2019\n",
    "### Name - Varun\n",
    "### Day Objectives\n",
    "Objectives 1\n",
    "Objectives 2\n",
    "Objectives 3\n",
    "### Problem 1 : \n",
    "### Problem Statement\n",
    "program to power of given no using recurssion\n",
    "### Constrains \n",
    "### Test Cases\n",
    "rec(3,3)->27\n",
    "rec(2,3)->8"
   ]
  },
  {
   "cell_type": "code",
   "execution_count": 7,
   "metadata": {},
   "outputs": [
    {
     "data": {
      "text/plain": [
       "27"
      ]
     },
     "execution_count": 7,
     "metadata": {},
     "output_type": "execute_result"
    }
   ],
   "source": [
    "def rec(n,r):\n",
    "    if(r==1):\n",
    "        return n\n",
    "    else:\n",
    "        return rec(n,r-1)*n\n",
    "rec(3,3)"
   ]
  },
  {
   "cell_type": "markdown",
   "metadata": {},
   "source": [
    "### Problem 2 : \n",
    "### Problem Statement\n",
    "program to find gcd of the given number\n",
    "### Constrains \n",
    "### Test Cases"
   ]
  },
  {
   "cell_type": "code",
   "execution_count": 13,
   "metadata": {},
   "outputs": [
    {
     "data": {
      "text/plain": [
       "3"
      ]
     },
     "execution_count": 13,
     "metadata": {},
     "output_type": "execute_result"
    }
   ],
   "source": [
    "def gcd(a,b):\n",
    "    if b%a ==0:\n",
    "        return a\n",
    "    else:\n",
    "        return gcd(b%a,a)\n",
    "gcd(12,39)"
   ]
  },
  {
   "cell_type": "markdown",
   "metadata": {},
   "source": [
    "### Problem 3: \n",
    "### Problem Statement\n",
    "program to solve tower of hanoi\n",
    "### Constrains \n",
    "### Test Cases\n",
    "n disk-> \n",
    "        1. move n-1 disk from source to destination\n",
    "        2. move nth disk from source to destination\n",
    "        3. move n-1 disk from temp to destination"
   ]
  },
  {
   "cell_type": "code",
   "execution_count": 36,
   "metadata": {
    "scrolled": true
   },
   "outputs": [
    {
     "name": "stdout",
     "output_type": "stream",
     "text": [
      "Move 1 disk from A B\n",
      "Move 2 disk from A to C\n",
      "Move 1 disk from B C\n",
      "Move 3 disk from A to B\n",
      "Move 1 disk from C A\n",
      "Move 2 disk from C to B\n",
      "Move 1 disk from A B\n",
      "Move 4 disk from A to C\n",
      "Move 1 disk from B C\n",
      "Move 2 disk from B to A\n",
      "Move 1 disk from C A\n",
      "Move 3 disk from B to C\n",
      "Move 1 disk from A B\n",
      "Move 2 disk from A to C\n",
      "Move 1 disk from B C\n"
     ]
    }
   ],
   "source": [
    "def towersofHanoi(n,source,temp,dest):\n",
    "    if n==1:\n",
    "        print('Move',n,'disk from',source,dest)\n",
    "        return\n",
    "    else:\n",
    "        towersofHanoi(n-1,source,dest,temp)\n",
    "        print('Move',n,'disk from',source,'to',dest)\n",
    "        towersofHanoi(n-1,temp,source,dest)\n",
    "        return\n",
    "towersofHanoi(4,'A','B','C')"
   ]
  },
  {
   "cell_type": "markdown",
   "metadata": {},
   "source": [
    "### Problem 4: \n",
    "### Problem Statement\n",
    "Design a procedure to print fibbonaci series\n",
    "### Constrains \n",
    "### Test Cases"
   ]
  },
  {
   "cell_type": "code",
   "execution_count": 64,
   "metadata": {},
   "outputs": [
    {
     "name": "stdout",
     "output_type": "stream",
     "text": [
      "1\n",
      "1\n",
      "2\n",
      "3\n",
      "5\n",
      "8\n",
      "13\n",
      "21\n",
      "34\n"
     ]
    }
   ],
   "source": [
    "x,y=0,1\n",
    "\n",
    "while y<50:\n",
    "    print(y)\n",
    "    x,y = y,x+y"
   ]
  },
  {
   "cell_type": "code",
   "execution_count": null,
   "metadata": {},
   "outputs": [],
   "source": []
  },
  {
   "cell_type": "code",
   "execution_count": null,
   "metadata": {},
   "outputs": [],
   "source": []
  }
 ],
 "metadata": {
  "kernelspec": {
   "display_name": "Python 3",
   "language": "python",
   "name": "python3"
  },
  "language_info": {
   "codemirror_mode": {
    "name": "ipython",
    "version": 3
   },
   "file_extension": ".py",
   "mimetype": "text/x-python",
   "name": "python",
   "nbconvert_exporter": "python",
   "pygments_lexer": "ipython3",
   "version": "3.7.3"
  }
 },
 "nbformat": 4,
 "nbformat_minor": 2
}
