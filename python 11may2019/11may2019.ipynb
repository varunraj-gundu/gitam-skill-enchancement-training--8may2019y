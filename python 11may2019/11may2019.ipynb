{
 "cells": [
  {
   "cell_type": "markdown",
   "metadata": {},
   "source": [
    "# Problem Solving and Programming\n",
    "## Day No - 12\n",
    "## Date - 8th may 2019\n",
    "## Name - Varun\n",
    "## Day Objectives\n",
    "Objectives 1\n",
    "Objectives 2\n",
    "Objectives 3\n",
    "### Problem 1 : \n",
    "Define a function to convert a decimal number to the corresponding binary number\n",
    "### Problem Statement \n",
    "### Constrains \n",
    "### Test Cases\n",
    "1. decimalToBinary(15) -> 1111\n",
    "2. decimalToBinary(1) -> 1\n",
    "\n",
    "\n"
   ]
  },
  {
   "cell_type": "code",
   "execution_count": 14,
   "metadata": {},
   "outputs": [
    {
     "name": "stdout",
     "output_type": "stream",
     "text": [
      "1111\n",
      "1\n",
      "111\n"
     ]
    }
   ],
   "source": [
    "def decimalToBinary(n): \n",
    "    k=bin(n)\n",
    "    return k.lstrip('0b')\n",
    "\n",
    " \n",
    "\n",
    "print(decimalToBinary(15)) \n",
    "print(decimalToBinary(1)) \n",
    "print(decimalToBinary(7)) "
   ]
  },
  {
   "cell_type": "markdown",
   "metadata": {},
   "source": [
    "### Problem 2 : \n",
    "### Problem Statement \n",
    "Define a function to convert a binary number to the corresponding decimal number\n",
    "### Constrains \n",
    "### Test Cases\n",
    "1. binaryToDecimal(1100) -> 12\n",
    "2. binaryToDecimal(1010) -> 10\n",
    "3. binaryToDecimal(111000) -> 56"
   ]
  },
  {
   "cell_type": "code",
   "execution_count": 8,
   "metadata": {},
   "outputs": [
    {
     "name": "stdout",
     "output_type": "stream",
     "text": [
      "12\n",
      "10\n",
      "56\n"
     ]
    }
   ],
   "source": [
    " \n",
    "\n",
    "def binaryToDecimal(n): \n",
    "    return int(n,2) \n",
    "\n",
    "\n",
    " \n",
    "if __name__ == '__main__': \n",
    "    print(binaryToDecimal('1100')) \n",
    "    print(binaryToDecimal('1010')) \n",
    "    print(binaryToDecimal('111000')) \n"
   ]
  },
  {
   "cell_type": "markdown",
   "metadata": {},
   "source": [
    "### Problem 3 : \n",
    "### Problem Statement \n",
    "Define a function to check if a given year is a leap year. Returns a boolean value\n",
    "### Constrains \n",
    "### Test Cases\n",
    "1. 2000 -> True\n",
    "2. 1900 -> False\n",
    "3.2012 -> True\n",
    "4. 2020 -> True\n",
    "5. 0200 -> False"
   ]
  },
  {
   "cell_type": "code",
   "execution_count": 24,
   "metadata": {},
   "outputs": [
    {
     "data": {
      "text/plain": [
       "True"
      ]
     },
     "execution_count": 24,
     "metadata": {},
     "output_type": "execute_result"
    }
   ],
   "source": [
    "def leap(year):\n",
    "    if(year%100!=0 or year%400==0):\n",
    "        return True\n",
    "    else:\n",
    "        return False\n",
    "leap(2000)"
   ]
  },
  {
   "cell_type": "markdown",
   "metadata": {},
   "source": [
    "### Problem 4 : \n",
    "### Problem Statement \n",
    "\n",
    "### Constrains \n",
    "### Test Cases\n",
    "Test Case 1\n",
    "Test Case 2\n",
    "Test Case 3"
   ]
  },
  {
   "cell_type": "code",
   "execution_count": 29,
   "metadata": {},
   "outputs": [
    {
     "data": {
      "text/plain": [
       "6"
      ]
     },
     "execution_count": 29,
     "metadata": {},
     "output_type": "execute_result"
    }
   ],
   "source": [
    "import calendar\n",
    "calendar.isleap(2019)\n",
    "calendar.weekday(2019,10, 20)"
   ]
  },
  {
   "cell_type": "code",
   "execution_count": null,
   "metadata": {},
   "outputs": [],
   "source": []
  }
 ],
 "metadata": {
  "kernelspec": {
   "display_name": "Python 3",
   "language": "python",
   "name": "python3"
  },
  "language_info": {
   "codemirror_mode": {
    "name": "ipython",
    "version": 3
   },
   "file_extension": ".py",
   "mimetype": "text/x-python",
   "name": "python",
   "nbconvert_exporter": "python",
   "pygments_lexer": "ipython3",
   "version": "3.7.3"
  }
 },
 "nbformat": 4,
 "nbformat_minor": 2
}
