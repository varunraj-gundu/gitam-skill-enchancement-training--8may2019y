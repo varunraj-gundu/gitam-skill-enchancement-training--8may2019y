{
 "cells": [
  {
   "cell_type": "markdown",
   "metadata": {},
   "source": [
    "# Problem Solving and Programming\n",
    "### Day 17\n",
    "### DATE: 15/5/2019"
   ]
  },
  {
   "cell_type": "markdown",
   "metadata": {},
   "source": [
    "#### day Objectives\n",
    "1. Objective 1\n",
    "2. Objective 2\n",
    "3. Objective 3"
   ]
  },
  {
   "cell_type": "markdown",
   "metadata": {},
   "source": [
    "## Problem 1:\n",
    "##### Problem statement\n",
    "\n",
    " Define a function to validate email addresses based on the following rules.\n",
    "\n",
    "1. Email should be in the format username@domain.extension\n",
    "2. username must start with an alphabet and can contain lowercase alphabet, digits, hyphen(-) and underscores( _ ).\n",
    "3. username must not contain special characters, uppercase letters, whitespaces.\n",
    "4. Length of username must be in the range (6, 16)\n",
    "5. Domain can only contain lowercase alphabet and digits with length in range (3, 10) . No special characters are allowed\n",
    "6. Extension can only contain lower case alphabet and its length must be in the range (2, 4)\n",
    "7. First line of input contains total number of email addresses n.  Next n lines contain  n email addresses.\n",
    "\n",
    "##### Test Cases\n",
    "\n",
    "\n",
    "\n",
    "\n",
    "\n"
   ]
  },
  {
   "cell_type": "code",
   "execution_count": 17,
   "metadata": {},
   "outputs": [
    {
     "data": {
      "text/plain": [
       "True"
      ]
     },
     "execution_count": 17,
     "metadata": {},
     "output_type": "execute_result"
    }
   ],
   "source": [
    "import re\n",
    "def emailvalid(s):\n",
    "    pat='^[a-z][a-z0-9._-]{3,13}[a-z0-9][@][a-z0-9]{3,9}[.][a-z]{2,3}$'\n",
    "    \n",
    "    if re.match(pat,s):\n",
    "        return True\n",
    "    else:\n",
    "        return False\n",
    "emailvalid('rvk10@outlook.com')"
   ]
  },
  {
   "cell_type": "markdown",
   "metadata": {},
   "source": []
  }
 ],
 "metadata": {
  "kernelspec": {
   "display_name": "Python 3",
   "language": "python",
   "name": "python3"
  },
  "language_info": {
   "codemirror_mode": {
    "name": "ipython",
    "version": 3
   },
   "file_extension": ".py",
   "mimetype": "text/x-python",
   "name": "python",
   "nbconvert_exporter": "python",
   "pygments_lexer": "ipython3",
   "version": "3.7.3"
  }
 },
 "nbformat": 4,
 "nbformat_minor": 2
}
