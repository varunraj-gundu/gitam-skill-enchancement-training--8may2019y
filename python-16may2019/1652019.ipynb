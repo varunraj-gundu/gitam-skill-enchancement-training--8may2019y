{
 "cells": [
  {
   "cell_type": "markdown",
   "metadata": {},
   "source": [
    "# Problem Solving and Programming\n",
    "### Day 16\n",
    "### DATE: 8/5/2019"
   ]
  },
  {
   "cell_type": "markdown",
   "metadata": {},
   "source": [
    "#### day Objectives\n",
    "1. Objective 1\n",
    "2. Objective 2\n",
    "3. Objective 3"
   ]
  },
  {
   "cell_type": "markdown",
   "metadata": {},
   "source": [
    "## Problem 1:\n",
    "##### Problem statement\n",
    "\n",
    "Read Data from a file\n"
   ]
  },
  {
   "cell_type": "code",
   "execution_count": 9,
   "metadata": {
    "scrolled": true
   },
   "outputs": [
    {
     "data": {
      "text/plain": [
       "'I love you\\nI hate you\\nI wanna bang your head'"
      ]
     },
     "execution_count": 9,
     "metadata": {},
     "output_type": "execute_result"
    }
   ],
   "source": [
    "def readfiledata(filename):\n",
    "    f=open(filename,'r')\n",
    "    filedata=f.read()\n",
    "    f.close()\n",
    "    return filedata\n",
    "readfiledata('Data Files/data.txt')    "
   ]
  },
  {
   "cell_type": "code",
   "execution_count": 5,
   "metadata": {},
   "outputs": [
    {
     "data": {
      "text/plain": [
       "'I love you\\n'"
      ]
     },
     "execution_count": 5,
     "metadata": {},
     "output_type": "execute_result"
    }
   ],
   "source": [
    "def readfiledata(filename):\n",
    "    with open(filename,'r') as f:\n",
    "        filedata=f.readline()\n",
    "    return filedata\n",
    "readfiledata('Data Files/data.txt')    "
   ]
  },
  {
   "cell_type": "code",
   "execution_count": 7,
   "metadata": {},
   "outputs": [
    {
     "name": "stdout",
     "output_type": "stream",
     "text": [
      "I love you\n",
      "\n",
      "I hate you\n",
      "\n",
      "I wanna bang your head\n"
     ]
    }
   ],
   "source": [
    "def readfiledata(filename):\n",
    "    with open(filename,'r') as f:\n",
    "        for line in f:\n",
    "            print(line)\n",
    "readfiledata('Data Files/data.txt')    "
   ]
  },
  {
   "cell_type": "code",
   "execution_count": 10,
   "metadata": {},
   "outputs": [
    {
     "name": "stdout",
     "output_type": "stream",
     "text": [
      "I love you\n",
      "I hate you\n",
      "I wanna bang your head\n"
     ]
    }
   ],
   "source": [
    "def readfiledata(filename):\n",
    "    with open(filename,'r') as f:\n",
    "        print(f.read())\n",
    "readfiledata('Data Files/data.txt')    "
   ]
  },
  {
   "cell_type": "code",
   "execution_count": 15,
   "metadata": {},
   "outputs": [],
   "source": [
    "def writefile(filename,data):\n",
    "    with open(filename,'w') as f:\n",
    "        f.write(data)\n",
    "    return \n",
    "writefile('Data Files/datawrite.txt','Hong Kong was a British colony.')        \n",
    "        "
   ]
  },
  {
   "cell_type": "code",
   "execution_count": 18,
   "metadata": {},
   "outputs": [],
   "source": [
    "def writefile(filename,data,mode):\n",
    "    with open(filename,mode) as f:\n",
    "        f.write(data)\n",
    "    return \n",
    "writefile('Data Files/datawrite.txt','\\nIn the year 1997 it was handed over to PRC,after the contract ended. ','a')        \n",
    "        "
   ]
  },
  {
   "cell_type": "markdown",
   "metadata": {},
   "source": [
    "## Problem 3:\n",
    "##### Problem statement\n",
    "\n",
    "Define a function to generate marks data file for 1300 students  "
   ]
  },
  {
   "cell_type": "code",
   "execution_count": 13,
   "metadata": {},
   "outputs": [],
   "source": [
    "import random\n",
    "def markgen(filename):\n",
    "    with open(filename,'a') as f:\n",
    "        for count in range (1,1301):\n",
    "            f.write(str(random.randrange(0,101))+\"\\n\")             \n",
    "markgen('Data Files/markdata.txt')"
   ]
  },
  {
   "cell_type": "markdown",
   "metadata": {},
   "source": [
    "## Problem 4:\n",
    "##### Problem statement\n",
    "\n",
    "Read Data from a file\n"
   ]
  },
  {
   "cell_type": "code",
   "execution_count": 27,
   "metadata": {},
   "outputs": [],
   "source": [
    "def highlow(filename):\n",
    "    high=0\n",
    "    low=100\n",
    "    with open(filename,'r') as f:\n",
    "        for count in f:\n",
    "            num=int(count)\n",
    "            #num=num[0:len(num)-1:1]\n",
    "            if high<num:\n",
    "                high=num\n",
    "            if low>num:\n",
    "                low=num\n",
    "    with open('Data Files/report.txt','w') as f:\n",
    "        f.write(\"Highest Mark = \"+ str(high)+\"\\n\")\n",
    "    with open('Data Files/report.txt','a') as f:\n",
    "        f.write(\"Lowest Mark = \"+str(low)+\"\\n\")\n",
    "def avg(filename):\n",
    "    sum=0\n",
    "    numb=[]\n",
    "    with open(filename,'r') as f:\n",
    "        for count in f:\n",
    "            sum=sum+int(count)\n",
    "    with open('Data Files/report.txt','a') as f:\n",
    "        f.write(\"Average = \"+ str(sum/1300)+\"\\n\")\n",
    "def markcat(filename):\n",
    "    dist=[]\n",
    "    fs=[]\n",
    "    sc=[]\n",
    "    tc=[]\n",
    "    with open(filename,'r') as f:\n",
    "        for count in f:\n",
    "            k=int(count[:len(count)-1])\n",
    "            if k>80:\n",
    "                dist.append(k)\n",
    "            if k>60 and k<80:\n",
    "                fs.append(k)\n",
    "            if k>50 and k<60 and k<80:\n",
    "                sc.append(k)\n",
    "            if k>40 and int(count)<60 and k<80 and k<50:\n",
    "                tc.append(k)\n",
    "    with open('Data Files/report.txt','a') as f:\n",
    "        f.write(\"distinction = \"+str(len(dist))+\"\\n\")\n",
    "        f.write(\"first class = \"+str(len(fs))+\"\\n\")\n",
    "        f.write(\"second class = \"+str(len(sc))+\"\\n\")\n",
    "        f.write(\"third class = \"+str(len(tc))+\"\\n\")\n",
    "highlow('Data Files/markdata.txt')       \n",
    "avg('Data Files/markdata.txt')\n",
    "markcat('Data Files/markdata.txt')"
   ]
  },
  {
   "cell_type": "markdown",
   "metadata": {},
   "source": [
    "## Problem 4:\n",
    "##### Problem statement\n",
    "\n",
    "Map function implementation\n"
   ]
  },
  {
   "cell_type": "code",
   "execution_count": 9,
   "metadata": {},
   "outputs": [
    {
     "name": "stdout",
     "output_type": "stream",
     "text": [
      "[1, 4, 9, 16, 25, 36, 49, 64, 81]\n"
     ]
    }
   ],
   "source": [
    "def square(n):\n",
    "    return n*n\n",
    "li=[1,2,3,4,5,6,7,8,9]\n",
    "k=map(square,li)\n",
    "print(list(k))"
   ]
  },
  {
   "cell_type": "code",
   "execution_count": 11,
   "metadata": {},
   "outputs": [
    {
     "data": {
      "text/plain": [
       "array([[1, 2, 3],\n",
       "       [4, 5, 6],\n",
       "       [7, 8, 9]])"
      ]
     },
     "execution_count": 11,
     "metadata": {},
     "output_type": "execute_result"
    }
   ],
   "source": [
    "import numpy as k\n",
    "k.array([[1,2,3],[4,5,6],[7,8,9]])"
   ]
  },
  {
   "cell_type": "code",
   "execution_count": null,
   "metadata": {},
   "outputs": [],
   "source": []
  }
 ],
 "metadata": {
  "kernelspec": {
   "display_name": "Python 3",
   "language": "python",
   "name": "python3"
  },
  "language_info": {
   "codemirror_mode": {
    "name": "ipython",
    "version": 3
   },
   "file_extension": ".py",
   "mimetype": "text/x-python",
   "name": "python",
   "nbconvert_exporter": "python",
   "pygments_lexer": "ipython3",
   "version": "3.7.3"
  }
 },
 "nbformat": 4,
 "nbformat_minor": 2
}
